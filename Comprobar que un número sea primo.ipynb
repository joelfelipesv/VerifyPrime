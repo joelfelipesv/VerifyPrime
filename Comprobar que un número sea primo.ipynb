{
 "cells": [
  {
   "cell_type": "markdown",
   "id": "91555276",
   "metadata": {},
   "source": [
    "# __Cómo identificar números primos__\n",
    "### ___Por Joel Felipe Suárez Vidarte___\n",
    "\n",
    "La mayoría conocemos lo que es un número primo: un número natural mayor a 1 que solamente puede dividirse entre sí mismo y 1.\n",
    "\n",
    "Los números primos tienen propiedades muy interesantes pero la duda del cómo identificar y demostrar que un número cumpla con esta definición es lo que abarca este artículo.\n",
    "\n",
    "### __Métodos para saber que un número es primo__\n",
    "\n",
    "El primer pensamiento que puede venir a la mente es que puede ser sencillo saber si un número de hasta dos cifras es primo o no; basta con la tarea de dividir el número entre todos los números naturales anteriores y verificar que no sea divisible más que entre sí mismo y el 1."
   ]
  },
  {
   "cell_type": "code",
   "execution_count": 4,
   "id": "612fdb97",
   "metadata": {},
   "outputs": [
    {
     "name": "stdout",
     "output_type": "stream",
     "text": [
      "Ingrese el número que desea verificar: 93\n",
      "El número es primo\n"
     ]
    }
   ],
   "source": [
    "def verifyPrime(n): # Función para determinar si un número es primo.\n",
    "    if n == 1: # Si el número ingresado es 1, automáticamente arroja el resultado \"no es un número primo\".\n",
    "        return False\n",
    "    elif n == 2: # Si el número ingresado es 2, automáticamente arroja el resultado \"es un número primo\".\n",
    "        return True\n",
    "    else:\n",
    "        a = 2\n",
    "        while a < n: # Se comienza el ciclo desde a=2\n",
    "            if n % a == 0: # Si n módulo a es cero, significa que el número no es primo. Se rompe el ciclo.\n",
    "                return False\n",
    "                break\n",
    "            return True\n",
    "        a =+ 1 # Si n módulo a es diferente de cero, sumamos 1 a la variable a.\n",
    "n = int(input(\"Ingrese el número que desea verificar: \")) # El usuario debe ingresar un número entero.\n",
    "if verifyPrime(n) == True:\n",
    "    print(n, \"es un número primo.\")\n",
    "else:\n",
    "    print(n, \"no es un número primo.\")"
   ]
  },
  {
   "cell_type": "markdown",
   "id": "b1bda8cf",
   "metadata": {},
   "source": [
    "A pesar de que el algoritmo da una respuesta correcta es bastante ineficiente, incluso computacionalmente. Debe haber alguna forma de optimizar el proceso y hay dos conceptos claves que nos ayudarán en la tarea: _La Criba de Eratóstenes_ y _La Regla del 6k±1_.\n",
    "\n",
    "__La Criba de Eratóstenes__\n",
    "\n",
    "Es un algoritmo desarrollado por el matemático (y se destacaba en más disciplinas) griego que permite hayar todos los números primos menores que un númeor natural dado.\n",
    "\n",
    "El algoritmo es el siguiente:\n",
    "\n",
    "1. Listar los número naturales desde 2 hasta el número seleccionado.\n",
    "2. Tomar el primer número no tachado.\n",
    "3. Se tachan todos los números múltiplos del primo que se acaba de indicar.\n",
    "4. Si el cuadrado del primo indicado es inferior al número natural seleccionado se repite desde el segundo paso.\n",
    "\n",
    "__La regla del 6k±1__\n",
    "\n",
    "Es una forma de encontrar números primos y se basa en que los números primos después de 3 siguen esta tendencia. Esto sucede debido a que los números primos mayores a 3 tienen como reciduo 1 o 5 cuando se les divide por 6. Los números que tienen como residuo 0, 2, 3 o 4 es al dividir por 6 es porque son compuestos o mpultiplos de 2 o 3.\n",
    "\n",
    "Observemos la siguiente lista de números primos para entender mejor:\n",
    "\n",
    "- 5 = (6*1-1)\n",
    "- 7 = (6*1+1)\n",
    "- 11 = (6*2-1)\n",
    "- 13 = (6*2+1)\n",
    "- 17 = (6*3-1)\n",
    "- 19 = (6*3+1)\n",
    "\n",
    "### __Algoritmo mejorado__\n",
    "\n",
    "Agregando ambos métodos para encontrar primos podemos desarrollar un código mucho mucho más eficiente que el primero.\n",
    "\n",
    "Es necesario que, debido a la regla de 6k±1, deban haber 3 condiciones iniciales para detectar si el número es o no primo las cuales son: Comprobar si el número es igual a 1, 2 o 3 y si el número es divisible entre 2 o 3.\n",
    "\n",
    "Luego el ciclo en vez de ser comprobar el residuo de cada uno de los números anteriores al escogido, será de la siguiente forma: El primer número primo en la lista es cinco, desde este se empieza a corroborar, y mientras que el cuadrado del primo actual sea menor o igual al número escogido se comprueba que este no sea divisible por el primo actual ni por el siguiente (nótese que 5+2=7 y 5+6=11, 11+2=13 y 11+6=17, 17+2=19 y 17+6=23. Entonces sumando 2 al primer número de la lista se obtiene el segundo primo de la lista, mientras que sumándole 6 se obtiene el tercero.), si lo es el ciclo se rompe, si no, entonces se repite el ciclo hasta que el cuadrado de un primo sea mayor al número ingresado.\n",
    "\n",
    "De esta forma el ciclo no tiene que repetirse tantas veces para verificar si un número es primo."
   ]
  },
  {
   "cell_type": "code",
   "execution_count": null,
   "id": "711b0cf6",
   "metadata": {},
   "outputs": [],
   "source": [
    "def verifyPrime(n):\n",
    "    if n <= 1: # Si el número ingresado es menor a 1, automáticamente arroja el resultado \"no es un número primo\".\n",
    "        return False\n",
    "    elif n <= 3: # Si el número ingresado es 2 o 3, automáticamente arroja el resultado \"es un número primo\".\n",
    "        return True\n",
    "    elif n % 2 == 0 or n % 3 == 0: # Si el número es divisible por 2 o 3 automáticamente arroja el resultado \"no es un número primo\".\n",
    "        return False\n",
    "    i = 5 # Se considera 5 como el primer primo de la lista.\n",
    "    while i * i <= n: # Se comprueba que el cuadrado del número primo actual sea menor o igual al número ingresado.\n",
    "        if n % i == 0 or n % (i + 2) == 0: # Si el módulo del número ingreasdo con respecto al primo actual (o al siguiente) es cero, automáticamente arroja el resultado \"no es un número primo\".\n",
    "            return False\n",
    "        i += 6 # Se suma 6 al primo actual avanzando dos posiciones en la lista de números primos.\n",
    "\n",
    "    return True # Si ninguna de las condiciones anteriores se cumple, entonces el número es primo.\n",
    "\n",
    "n = int(input(\"Ingrese el número que desea verificar: \")) # El usuario debe ingresar un número entero.\n",
    "\n",
    "if verifyPrime(n):\n",
    "    print(n, \"es un número primo.\")\n",
    "else:\n",
    "    print(n, \"no es un número primo.\")\n"
   ]
  },
  {
   "cell_type": "code",
   "execution_count": null,
   "id": "b57bcb5b",
   "metadata": {},
   "outputs": [],
   "source": []
  }
 ],
 "metadata": {
  "kernelspec": {
   "display_name": "Python 3 (ipykernel)",
   "language": "python",
   "name": "python3"
  },
  "language_info": {
   "codemirror_mode": {
    "name": "ipython",
    "version": 3
   },
   "file_extension": ".py",
   "mimetype": "text/x-python",
   "name": "python",
   "nbconvert_exporter": "python",
   "pygments_lexer": "ipython3",
   "version": "3.10.9"
  }
 },
 "nbformat": 4,
 "nbformat_minor": 5
}
